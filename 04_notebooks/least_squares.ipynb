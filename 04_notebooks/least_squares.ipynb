{
  "cells": [
    {
      "cell_type": "markdown",
      "metadata": {
        "id": "AZvfiISOP-r9"
      },
      "source": [
        "# Нелинейный метод наименьших квадратов. Ланцош\n",
        "\n",
        "> Выполнил: Власов Максим Сергеевич, студент группы 3822М1ПМкн"
      ]
    },
    {
      "cell_type": "markdown",
      "metadata": {
        "id": "gWNNEq8NQIQ-"
      },
      "source": [
        "## Условие задачи\n",
        "\n",
        "[Ланцош <<Прикладные методы анализа>>]\n",
        "\n",
        "Данные, представленные в таблице, нанесите на график.\n",
        "\n",
        "```\n",
        "       x         f(x)    \n",
        " ----------------------\n",
        "    2.5134       0    \n",
        "    2.0443       0.05\n",
        "    1.6684       0.10\n",
        "    1.3664       0.15\n",
        "    1.1232       0.20\n",
        "    0.9269       0.25\n",
        "    0.7679       0.30\n",
        "    0.6389       0.35\n",
        "    0.5338       0.40\n",
        "    0.4479       0.45\n",
        "    0.3776       0.50\n",
        "    0.3197       0.55\n",
        "    0.2720       0.60\n",
        "    0.2325       0.65\n",
        "    0.1997       0.70\n",
        "    0.1723       0.75\n",
        "    0.1493       0.80\n",
        "    0.1301       0.85\n",
        "    0.1138       0.90\n",
        "    0.1000       0.95\n",
        "    0.0883       1.00\n",
        "    0.0783       1.05\n",
        "    0.0698       1.10\n",
        "    0.0624       1.15\n",
        "```\n",
        "\n",
        "Нелинейным методом наименьших квадратов аппроксимируйте данные моделью в виде суммы 3 экспонент\n",
        "$$\n",
        "f(x) = \\beta_1 e^{-\\lambda_1 x} + \\beta_2 e^{-\\lambda_2 x} + \\beta_3 e^{-\\lambda_3 x}\n",
        "$$\n",
        "\n",
        "Рассмотрите различные начальные приближения к $\\beta_1, \\beta_2, \\beta_3, \\lambda_1, \\lambda_2, \\lambda_3$.\n",
        "Чему равна результирующая суммарная ошибка? Насколько чувствительны результирующие значения к начальным значениям? Как изменится результат, если в модели оставить одну или две экспоненты? Для одной экспоненты сведите задачу к линейной задаче наименьших квадратов."
      ]
    },
    {
      "cell_type": "code",
      "execution_count": 1,
      "metadata": {
        "id": "PEJ26vF_Q24v"
      },
      "outputs": [],
      "source": [
        "import numpy as np\n",
        "import pandas as pd\n",
        "import matplotlib.pyplot as plt\n",
        "from scipy.optimize import curve_fit, leastsq\n",
        "import warnings\n",
        "warnings.filterwarnings('ignore')\n",
        "plt.rcParams.update({\"font.size\": 14, \"figure.figsize\": (10, 8)})"
      ]
    },
    {
      "cell_type": "markdown",
      "metadata": {
        "id": "samtbjDGQ1by"
      },
      "source": [
        "## Решение"
      ]
    },
    {
      "cell_type": "markdown",
      "metadata": {},
      "source": [
        "Данные из задачи будут представлены в виде массивов `DATA_X` и `DATA_F`."
      ]
    },
    {
      "cell_type": "code",
      "execution_count": 2,
      "metadata": {
        "colab": {
          "base_uri": "https://localhost:8080/",
          "height": 282
        },
        "id": "5XwDE6hsRMDT",
        "outputId": "d1911f81-574e-491e-db4a-6355449ccd4c"
      },
      "outputs": [],
      "source": [
        "DATA_X = np.array([\n",
        "    2.5134, \n",
        "    2.0443,\n",
        "    1.6684,\n",
        "    1.3664,\n",
        "    1.1232,\n",
        "    0.9269,\n",
        "    0.7679,\n",
        "    0.6389,\n",
        "    0.5338,\n",
        "    0.4479,\n",
        "    0.3776,\n",
        "    0.3197,\n",
        "    0.2720,\n",
        "    0.2325,\n",
        "    0.1997,\n",
        "    0.1723,\n",
        "    0.1493,\n",
        "    0.1301,\n",
        "    0.1138,\n",
        "    0.1000,\n",
        "    0.0883,\n",
        "    0.0783,\n",
        "    0.0698,\n",
        "    0.0624,\n",
        "])\n",
        "DATA_F = np.array([\n",
        "    0,\n",
        "    0.05,\n",
        "    0.10,\n",
        "    0.15,\n",
        "    0.20,\n",
        "    0.25,\n",
        "    0.30,\n",
        "    0.35,\n",
        "    0.40,\n",
        "    0.45,\n",
        "    0.50,\n",
        "    0.55,\n",
        "    0.60,\n",
        "    0.65,\n",
        "    0.70,\n",
        "    0.75,\n",
        "    0.80,\n",
        "    0.85,\n",
        "    0.90,\n",
        "    0.95,\n",
        "    1.00,\n",
        "    1.05,\n",
        "    1.10,\n",
        "    1.15,\n",
        "])\n"
      ]
    },
    {
      "cell_type": "markdown",
      "metadata": {},
      "source": [
        "На графике ниже представлена заданная исходной таблицей функция $f_0 (x)$."
      ]
    },
    {
      "cell_type": "code",
      "execution_count": 3,
      "metadata": {},
      "outputs": [
        {
          "data": {
            "image/png": "[encoded data removed]",
            "text/plain": [
              "<Figure size 720x576 with 1 Axes>"
            ]
          },
          "metadata": {
            "needs_background": "light"
          },
          "output_type": "display_data"
        }
      ],
      "source": [
        "plt.plot(DATA_X, DATA_F, \"bo\", label=\"$f: f_0 (x)$\")\n",
        "plt.xlabel(\"x\")\n",
        "plt.ylabel(\"$f$\")\n",
        "plt.legend(loc=\"best\")\n",
        "plt.show()\n"
      ]
    },
    {
      "attachments": {},
      "cell_type": "markdown",
      "metadata": {},
      "source": [
        "Аппроксимируем функцию с помощью метода наименьших квадратов, используя модель с тремя экспонентами:\n",
        "$$\n",
        "f_3 (x) = \\beta_1 e^{-\\lambda_1 x} + \\beta_2 e^{-\\lambda_2 x} + \\beta_3 e^{-\\lambda_3 x}\n",
        "$$\n",
        "\n",
        "Функция ошибки в общем виде будет выглядеть следующим образом:\n",
        "$$\n",
        "E (\\beta, \\lambda) = \\sum_{i} (f_0(x_i) - f_3(x_i))^2\n",
        "$$\n",
        "\n",
        "Попробуем использовать различные начальные приближения, чтобы определить то, которое даст наименьшую ошибку:"
      ]
    },
    {
      "cell_type": "code",
      "execution_count": 4,
      "metadata": {
        "colab": {
          "base_uri": "https://localhost:8080/"
        },
        "id": "CkX_rBb2UkQN",
        "outputId": "dcc4e2e5-e6e8-4ed0-a6ae-acb0192c9ac4"
      },
      "outputs": [
        {
          "data": {
            "text/html": [
              "<div>\n",
              "<style scoped>\n",
              "    .dataframe tbody tr th:only-of-type {\n",
              "        vertical-align: middle;\n",
              "    }\n",
              "\n",
              "    .dataframe tbody tr th {\n",
              "        vertical-align: top;\n",
              "    }\n",
              "\n",
              "    .dataframe thead th {\n",
              "        text-align: right;\n",
              "    }\n",
              "</style>\n",
              "<table border=\"1\" class=\"dataframe\">\n",
              "  <thead>\n",
              "    <tr style=\"text-align: right;\">\n",
              "      <th></th>\n",
              "      <th>coef_initial</th>\n",
              "      <th>b1 opt</th>\n",
              "      <th>b2 opt</th>\n",
              "      <th>b3 opt</th>\n",
              "      <th>l1 opt</th>\n",
              "      <th>l2 opt</th>\n",
              "      <th>l3 opt</th>\n",
              "      <th>error</th>\n",
              "    </tr>\n",
              "  </thead>\n",
              "  <tbody>\n",
              "    <tr>\n",
              "      <th>0</th>\n",
              "      <td>(1.0, 1.0, 1.0, 1.0, 1.0, 1.0)</td>\n",
              "      <td>0.404385</td>\n",
              "      <td>0.404382</td>\n",
              "      <td>0.872655</td>\n",
              "      <td>1.290601</td>\n",
              "      <td>1.290675</td>\n",
              "      <td>12.701374</td>\n",
              "      <td>0.001770</td>\n",
              "    </tr>\n",
              "    <tr>\n",
              "      <th>1</th>\n",
              "      <td>(-1.0, -1.0, -1.0, -1.0, -1.0, -1.0)</td>\n",
              "      <td>0.703958</td>\n",
              "      <td>1.127692</td>\n",
              "      <td>0.785652</td>\n",
              "      <td>10.420237</td>\n",
              "      <td>47.902827</td>\n",
              "      <td>1.259862</td>\n",
              "      <td>0.001456</td>\n",
              "    </tr>\n",
              "    <tr>\n",
              "      <th>2</th>\n",
              "      <td>(1.0, 1.0, 1.0, -1.0, -1.0, -1.0)</td>\n",
              "      <td>-5.417971</td>\n",
              "      <td>0.808775</td>\n",
              "      <td>6.290640</td>\n",
              "      <td>12.701514</td>\n",
              "      <td>1.290650</td>\n",
              "      <td>12.701555</td>\n",
              "      <td>0.001770</td>\n",
              "    </tr>\n",
              "    <tr>\n",
              "      <th>3</th>\n",
              "      <td>(-1.0, -1.0, -1.0, 1.0, 1.0, 1.0)</td>\n",
              "      <td>0.868822</td>\n",
              "      <td>-0.000012</td>\n",
              "      <td>0.787819</td>\n",
              "      <td>12.013663</td>\n",
              "      <td>-3.165104</td>\n",
              "      <td>1.243079</td>\n",
              "      <td>0.000635</td>\n",
              "    </tr>\n",
              "    <tr>\n",
              "      <th>4</th>\n",
              "      <td>(10.0, 10.0, 10.0, 10.0, 10.0, 10.0)</td>\n",
              "      <td>0.703915</td>\n",
              "      <td>1.127162</td>\n",
              "      <td>0.785647</td>\n",
              "      <td>10.419736</td>\n",
              "      <td>47.891126</td>\n",
              "      <td>1.259855</td>\n",
              "      <td>0.001456</td>\n",
              "    </tr>\n",
              "    <tr>\n",
              "      <th>5</th>\n",
              "      <td>(-10.0, -10.0, -10.0, -10.0, -10.0, -10.0)</td>\n",
              "      <td>-11.060636</td>\n",
              "      <td>11.060614</td>\n",
              "      <td>0.000022</td>\n",
              "      <td>-9.510543</td>\n",
              "      <td>-9.510543</td>\n",
              "      <td>-9.573115</td>\n",
              "      <td>10.791718</td>\n",
              "    </tr>\n",
              "    <tr>\n",
              "      <th>6</th>\n",
              "      <td>(10.0, 10.0, 10.0, -10.0, -10.0, -10.0)</td>\n",
              "      <td>5.594942</td>\n",
              "      <td>7.632684</td>\n",
              "      <td>-13.227626</td>\n",
              "      <td>-9.716435</td>\n",
              "      <td>-9.716581</td>\n",
              "      <td>-9.716519</td>\n",
              "      <td>10.792136</td>\n",
              "    </tr>\n",
              "    <tr>\n",
              "      <th>7</th>\n",
              "      <td>(-10.0, -10.0, -10.0, 10.0, 10.0, 10.0)</td>\n",
              "      <td>2.687391</td>\n",
              "      <td>0.808772</td>\n",
              "      <td>-1.814727</td>\n",
              "      <td>12.702135</td>\n",
              "      <td>1.290646</td>\n",
              "      <td>12.702363</td>\n",
              "      <td>0.001770</td>\n",
              "    </tr>\n",
              "  </tbody>\n",
              "</table>\n",
              "</div>"
            ],
            "text/plain": [
              "                                 coef_initial     b1 opt     b2 opt  \\\n",
              "0              (1.0, 1.0, 1.0, 1.0, 1.0, 1.0)   0.404385   0.404382   \n",
              "1        (-1.0, -1.0, -1.0, -1.0, -1.0, -1.0)   0.703958   1.127692   \n",
              "2           (1.0, 1.0, 1.0, -1.0, -1.0, -1.0)  -5.417971   0.808775   \n",
              "3           (-1.0, -1.0, -1.0, 1.0, 1.0, 1.0)   0.868822  -0.000012   \n",
              "4        (10.0, 10.0, 10.0, 10.0, 10.0, 10.0)   0.703915   1.127162   \n",
              "5  (-10.0, -10.0, -10.0, -10.0, -10.0, -10.0) -11.060636  11.060614   \n",
              "6     (10.0, 10.0, 10.0, -10.0, -10.0, -10.0)   5.594942   7.632684   \n",
              "7     (-10.0, -10.0, -10.0, 10.0, 10.0, 10.0)   2.687391   0.808772   \n",
              "\n",
              "      b3 opt     l1 opt     l2 opt     l3 opt      error  \n",
              "0   0.872655   1.290601   1.290675  12.701374   0.001770  \n",
              "1   0.785652  10.420237  47.902827   1.259862   0.001456  \n",
              "2   6.290640  12.701514   1.290650  12.701555   0.001770  \n",
              "3   0.787819  12.013663  -3.165104   1.243079   0.000635  \n",
              "4   0.785647  10.419736  47.891126   1.259855   0.001456  \n",
              "5   0.000022  -9.510543  -9.510543  -9.573115  10.791718  \n",
              "6 -13.227626  -9.716435  -9.716581  -9.716519  10.792136  \n",
              "7  -1.814727  12.702135   1.290646  12.702363   0.001770  "
            ]
          },
          "execution_count": 4,
          "metadata": {},
          "output_type": "execute_result"
        }
      ],
      "source": [
        "func = lambda x, b1, b2, b3, l1, l2, l3: b1 * np.exp(-l1 * x) + b2 * np.exp(-l2 * x) + b3 * np.exp(-l3 * x)\n",
        "coef_initial_options = [\n",
        "    (1., 1., 1., 1., 1., 1.),\n",
        "    (-1., -1., -1., -1., -1., -1.),\n",
        "    (1., 1., 1., -1., -1., -1.),\n",
        "    (-1., -1., -1., 1., 1., 1.),\n",
        "    (10., 10., 10., 10., 10., 10.),\n",
        "    (-10., -10., -10., -10., -10., -10.),\n",
        "    (10., 10., 10., -10., -10., -10.),\n",
        "    (-10., -10., -10., 10., 10., 10.),\n",
        "]\n",
        "output_data = []\n",
        "for coef_initial in coef_initial_options:\n",
        "    coef_optimized, _ = curve_fit(func, DATA_X, DATA_F, p0=coef_initial)\n",
        "    error = np.sum(np.square(func(DATA_X, *coef_optimized) - DATA_F))\n",
        "    output_data.append({\n",
        "        \"coef_initial\": coef_initial,\n",
        "        \"b1 opt\": coef_optimized[0],\n",
        "        \"b2 opt\": coef_optimized[1],\n",
        "        \"b3 opt\": coef_optimized[2],\n",
        "        \"l1 opt\": coef_optimized[3],\n",
        "        \"l2 opt\": coef_optimized[4],\n",
        "        \"l3 opt\": coef_optimized[5],\n",
        "        \"error\": error,\n",
        "    })\n",
        "results = pd.DataFrame(output_data)\n",
        "results\n"
      ]
    },
    {
      "attachments": {},
      "cell_type": "markdown",
      "metadata": {},
      "source": [
        "Наименьшая ошибка достигается при следующих параметрах модели:"
      ]
    },
    {
      "cell_type": "code",
      "execution_count": 5,
      "metadata": {},
      "outputs": [
        {
          "name": "stdout",
          "output_type": "stream",
          "text": [
            "Coefs: (0.8688218142215282, -1.232058030034977e-05, 0.787819183701535, 12.013662841593645, -3.165103585170551, 1.2430785347066855)\n",
            "Error: 0.0006347158380539779\n"
          ]
        }
      ],
      "source": [
        "optima = results[results.error == results.error.min()].iloc[0]\n",
        "coef_optimized = (optima[\"b1 opt\"], optima[\"b2 opt\"],optima[\"b3 opt\"], optima[\"l1 opt\"], optima[\"l2 opt\"], optima[\"l3 opt\"])\n",
        "error = optima[\"error\"]\n",
        "print(\"Coefs:\", coef_optimized)\n",
        "print(\"Error:\", error)\n"
      ]
    },
    {
      "attachments": {},
      "cell_type": "markdown",
      "metadata": {},
      "source": [
        "На графике ниже можно наблюдать, как построенное приближение $f_3 (x)$ соотносится с исходной функцией $f_0 (x)$:"
      ]
    },
    {
      "cell_type": "code",
      "execution_count": 6,
      "metadata": {
        "colab": {
          "base_uri": "https://localhost:8080/",
          "height": 279
        },
        "id": "4u1_HH6LLzDt",
        "outputId": "37e0faeb-2109-4787-cfbc-6981d99833ae"
      },
      "outputs": [
        {
          "data": {
            "image/png": "[encoded data removed]",
            "text/plain": [
              "<Figure size 720x576 with 1 Axes>"
            ]
          },
          "metadata": {
            "needs_background": "light"
          },
          "output_type": "display_data"
        }
      ],
      "source": [
        "plt.plot(DATA_X, DATA_F, \"bo\", label=\"$f: f_0 (x)$\")\n",
        "plt.plot(DATA_X, func(DATA_X, *coef_optimized), \"r\",\n",
        "         label=\"$f: f_3 (x) = %.3f e^{-%.3f x} %+.3f e^{-%.3f x} %+.3f e^{-%.3f x}$\" % (coef_optimized[0], coef_optimized[3], coef_optimized[1], coef_optimized[4], coef_optimized[2], coef_optimized[5]))\n",
        "plt.xlabel(\"x\")\n",
        "plt.ylabel(\"f\")\n",
        "plt.legend(loc=\"best\")\n",
        "plt.show()\n"
      ]
    },
    {
      "cell_type": "markdown",
      "metadata": {
        "id": "JHGualyFNWGv"
      },
      "source": [
        "Для той же модели, но с двумя экспонентами:\n",
        "$$\n",
        "f_2 (x) = \\beta_1 e^{-\\lambda_1 x} + \\beta_2 e^{-\\lambda_2 x}\n",
        "$$\n"
      ]
    },
    {
      "cell_type": "code",
      "execution_count": 7,
      "metadata": {
        "colab": {
          "base_uri": "https://localhost:8080/"
        },
        "id": "str_-XK8Pz-C",
        "outputId": "75479880-0d14-4dcc-bdf8-c4eaa0f3fc3d"
      },
      "outputs": [
        {
          "name": "stdout",
          "output_type": "stream",
          "text": [
            "Coefs: [ 0.80877291  0.87266541  1.29064745 12.70171066]\n",
            "Error: 0.0017697315712488528\n"
          ]
        }
      ],
      "source": [
        "func = lambda x, b1, b2, l1, l2: b1 * np.exp(-l1 * x) + b2 * np.exp(-l2 * x)\n",
        "coef_initial = (-1., -1., 1., 1.)\n",
        "coef_optimized, _ = curve_fit(func, DATA_X, DATA_F, p0=coef_initial)\n",
        "error = np.sum(np.square(func(DATA_X, *coef_optimized) - DATA_F))\n",
        "\n",
        "print(\"Coefs:\", coef_optimized)\n",
        "print(\"Error:\", error)\n"
      ]
    },
    {
      "attachments": {},
      "cell_type": "markdown",
      "metadata": {},
      "source": [
        "На графике ниже можно наблюдать, как построенное приближение $f_2 (x)$ соотносится с исходной функцией $f_0 (x)$:"
      ]
    },
    {
      "cell_type": "code",
      "execution_count": 8,
      "metadata": {
        "colab": {
          "base_uri": "https://localhost:8080/",
          "height": 279
        },
        "id": "9xrXRSTOQ0Yz",
        "outputId": "9b3a8fde-e904-4964-9975-3e3981710abc"
      },
      "outputs": [
        {
          "data": {
            "image/png": "[encoded data removed]",
            "text/plain": [
              "<Figure size 720x576 with 1 Axes>"
            ]
          },
          "metadata": {
            "needs_background": "light"
          },
          "output_type": "display_data"
        }
      ],
      "source": [
        "plt.plot(DATA_X, DATA_F, \"bo\", label=\"$f: f_0 (x)$\")\n",
        "plt.plot(DATA_X, func(DATA_X, *coef_optimized), \"r\",\n",
        "         label=\"$f: f_2 (x) = %.3f e^{-%.3f x} %+.3f e^{-%.3f x}$\" % (coef_optimized[0], coef_optimized[2], coef_optimized[1], coef_optimized[3]))\n",
        "plt.xlabel(\"x\")\n",
        "plt.ylabel(\"f\")\n",
        "plt.legend(loc=\"best\")\n",
        "plt.show()\n"
      ]
    },
    {
      "cell_type": "markdown",
      "metadata": {
        "id": "Gg0gx5lDRf0T"
      },
      "source": [
        "Наконец, для случая с одной экспонентой:\n",
        "$$\n",
        "f_1 (x) = \\beta e^{-\\lambda x}\n",
        "$$"
      ]
    },
    {
      "cell_type": "code",
      "execution_count": 9,
      "metadata": {
        "colab": {
          "base_uri": "https://localhost:8080/"
        },
        "id": "YEaSf77PQ-xX",
        "outputId": "6e516cae-17ad-4d30-a10f-aac106fd4ef3"
      },
      "outputs": [
        {
          "name": "stdout",
          "output_type": "stream",
          "text": [
            "Coefs: [1.1660128 2.0633445]\n",
            "Error: 0.08678102497927023\n"
          ]
        }
      ],
      "source": [
        "func = lambda x, b, l: b * np.exp(-l * x)\n",
        "coef_initial = (-1., 1.)\n",
        "coef_optimized, _ = curve_fit(func, DATA_X, DATA_F, p0=coef_initial)\n",
        "error = np.sum(np.square(func(DATA_X, *coef_optimized) - DATA_F))\n",
        "\n",
        "print(\"Coefs:\", coef_optimized)\n",
        "print(\"Error:\", error)\n"
      ]
    },
    {
      "attachments": {},
      "cell_type": "markdown",
      "metadata": {},
      "source": [
        "На графике ниже можно наблюдать, как построенное приближение $f_1 (x)$ соотносится с исходной функцией $f_0 (x)$:"
      ]
    },
    {
      "cell_type": "code",
      "execution_count": 10,
      "metadata": {
        "colab": {
          "base_uri": "https://localhost:8080/",
          "height": 279
        },
        "id": "5cQjZE22RFnS",
        "outputId": "0df4af7a-8af7-4305-bb2f-863136cb67ab"
      },
      "outputs": [
        {
          "data": {
            "image/png": "[encoded data removed]",
            "text/plain": [
              "<Figure size 720x576 with 1 Axes>"
            ]
          },
          "metadata": {
            "needs_background": "light"
          },
          "output_type": "display_data"
        }
      ],
      "source": [
        "plt.plot(DATA_X, DATA_F, \"bo\", label=\"$f: f_0 (x)$\")\n",
        "plt.plot(DATA_X, func(DATA_X, *coef_optimized), \"r\",\n",
        "         label=\"$f: f_1 (x) = %.3f e^{-%.3f x}$\" % tuple(coef_optimized))\n",
        "plt.xlabel(\"x\")\n",
        "plt.ylabel(\"f\")\n",
        "plt.legend(loc=\"best\")\n",
        "plt.show()\n"
      ]
    },
    {
      "attachments": {},
      "cell_type": "markdown",
      "metadata": {
        "id": "uTLNNs4nRh4h"
      },
      "source": [
        "Сведение к линейной задаче ([референс](https://en.wikipedia.org/wiki/Non-linear_least_squares#Transformation_to_a_linear_model)):\n",
        "$$\n",
        "f(x) = \\beta e^{-\\lambda x} \\\\\n",
        "\\ln f(x) = \\ln \\beta e^{-\\lambda x} \\\\\n",
        "\\ln f(x) = \\ln \\beta + \\ln e^{-\\lambda x} \\\\\n",
        "\\ln f(x) = \\ln \\beta - \\lambda x \\\\\n",
        "$$\n",
        "\n",
        "Отсюда функция ошибки изменится следующим образом:\n",
        "$$\n",
        "E (\\beta, \\lambda) = \\sum_{i} (\\ln f_0(x_i) - \\ln \\beta + \\lambda x_i)^2\n",
        "$$\n",
        "\n",
        "Логарифм от нуля не определен, поэтому предварительно избавимся от нулевого значения."
      ]
    },
    {
      "cell_type": "code",
      "execution_count": 11,
      "metadata": {
        "colab": {
          "base_uri": "https://localhost:8080/"
        },
        "id": "NfS28AsZRJHz",
        "outputId": "eb5901da-1c90-4cf0-a757-960577842f22"
      },
      "outputs": [
        {
          "name": "stdout",
          "output_type": "stream",
          "text": [
            "Coefs: [1.00716684 1.46921498]\n",
            "Error: 0.17344279071557395\n"
          ]
        }
      ],
      "source": [
        "DATA_X = DATA_X[1:]\n",
        "DATA_F = DATA_F[1:]\n",
        "\n",
        "func = lambda x, b, l: np.exp(np.log(b) - l * x)\n",
        "errf = lambda coef, x, f: (np.log(f) - np.log(coef[0]) + coef[1] * x)\n",
        "coef_initial = (1., 1.)\n",
        "coef_optimized, _ = leastsq(errf, coef_initial[:], args=(DATA_X, DATA_F))\n",
        "error = np.sum(np.square(func(DATA_X, *coef_optimized) - DATA_F))\n",
        "\n",
        "print(\"Coefs:\", coef_optimized)\n",
        "print(\"Error:\", error)\n"
      ]
    },
    {
      "attachments": {},
      "cell_type": "markdown",
      "metadata": {},
      "source": [
        "На графике ниже можно наблюдать, как построенное приближение $f (x)$ соотносится с исходной функцией $f_0 (x)$:"
      ]
    },
    {
      "cell_type": "code",
      "execution_count": 12,
      "metadata": {
        "colab": {
          "base_uri": "https://localhost:8080/",
          "height": 279
        },
        "id": "C6ljAufLRSWo",
        "outputId": "cf008662-8a6e-46d2-82c0-b6defe13b311"
      },
      "outputs": [
        {
          "data": {
            "image/png": "[encoded data removed]",
            "text/plain": [
              "<Figure size 720x576 with 1 Axes>"
            ]
          },
          "metadata": {
            "needs_background": "light"
          },
          "output_type": "display_data"
        }
      ],
      "source": [
        "plt.plot(DATA_X, DATA_F, \"bo\", label=\"$f: f_0 (x)$\")\n",
        "plt.plot(DATA_X, func(DATA_X, *coef_optimized), \"r\", label=\"$f: \\\\ln f(x) = \\\\ln %.3f - %.3f x$\" % tuple(coef_optimized))\n",
        "plt.xlabel(\"x\")\n",
        "plt.ylabel(\"f\")\n",
        "plt.legend(loc=\"best\")\n",
        "plt.show()\n"
      ]
    },
    {
      "attachments": {},
      "cell_type": "markdown",
      "metadata": {
        "id": "yBZ5KfuGPXCU"
      },
      "source": [
        "Таким образом, наиболее точной оказалась аппроксимация исходной функции с помощью модели с тремя экспонентами. Лучшим начальным приближением стало то, в котором использовались отрицательные значения $\\beta$ и положительные значения $\\lambda$, поэтому таковые были использованы и в построении аппроксимаций с меньшим числом экспонент. Использование больших по модулю начальных приближений не дало уменьшения ошибки. С уменьшением числа параметров росла ошибка, причем наибольшей она стала после сведения экспоненциальной модели к линейной."
      ]
    }
  ],
  "metadata": {
    "colab": {
      "provenance": []
    },
    "kernelspec": {
      "display_name": "Python 3.8.5 64-bit",
      "language": "python",
      "name": "python3"
    },
    "language_info": {
      "codemirror_mode": {
        "name": "ipython",
        "version": 3
      },
      "file_extension": ".py",
      "mimetype": "text/x-python",
      "name": "python",
      "nbconvert_exporter": "python",
      "pygments_lexer": "ipython3",
      "version": "3.8.5"
    },
    "vscode": {
      "interpreter": {
        "hash": "030023af8010c5c20adc66d9967908c22cf883d0a2f93231a539c289d142ee37"
      }
    }
  },
  "nbformat": 4,
  "nbformat_minor": 0
}
